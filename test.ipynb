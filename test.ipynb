{
 "cells": [
  {
   "cell_type": "code",
   "execution_count": 12,
   "metadata": {},
   "outputs": [
    {
     "name": "stdout",
     "output_type": "stream",
     "text": [
      "['[', '1', '5', ',', '1', '2', ',', '3', ',', '4', ']']\n",
      "[15,12,3,4]\n"
     ]
    }
   ],
   "source": [
    "string = '15, 12, 3, 4 nnot good'\n",
    "#remove anything that is not a number, comma, or [] and turn it to a list\n",
    "string = list(filter(lambda x: x in '0123456789,', string))\n",
    "print(string)\n",
    "#turn the list into a string\n",
    "string = ''.join(string)\n",
    "print(string)"
   ]
  },
  {
   "cell_type": "code",
   "execution_count": 13,
   "metadata": {},
   "outputs": [
    {
     "name": "stdout",
     "output_type": "stream",
     "text": [
      "['[15', '12', '3', '4]']\n"
     ]
    }
   ],
   "source": [
    "#turn it into a list\n",
    "string = string.split(',')\n",
    "print(string)"
   ]
  }
 ],
 "metadata": {
  "kernelspec": {
   "display_name": "venv445",
   "language": "python",
   "name": "python3"
  },
  "language_info": {
   "codemirror_mode": {
    "name": "ipython",
    "version": 3
   },
   "file_extension": ".py",
   "mimetype": "text/x-python",
   "name": "python",
   "nbconvert_exporter": "python",
   "pygments_lexer": "ipython3",
   "version": "3.11.5"
  }
 },
 "nbformat": 4,
 "nbformat_minor": 2
}
